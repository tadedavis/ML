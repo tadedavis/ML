{
  "nbformat": 4,
  "nbformat_minor": 0,
  "metadata": {
    "colab": {
      "provenance": [],
      "authorship_tag": "ABX9TyMUKPmHO5aMGKaRcBU63/bv",
      "include_colab_link": true
    },
    "kernelspec": {
      "name": "python3",
      "display_name": "Python 3"
    },
    "language_info": {
      "name": "python"
    },
    "accelerator": "GPU",
    "gpuClass": "standard"
  },
  "cells": [
    {
      "cell_type": "markdown",
      "metadata": {
        "id": "view-in-github",
        "colab_type": "text"
      },
      "source": [
        "<a href=\"https://colab.research.google.com/github/tadedavis/gitpractice/blob/main/power_grid2.ipynb\" target=\"_parent\"><img src=\"https://colab.research.google.com/assets/colab-badge.svg\" alt=\"Open In Colab\"/></a>"
      ]
    },
    {
      "cell_type": "code",
      "source": [
        "from numpy import array\n",
        "import pandas as pd\n",
        "from statistics import mean\n",
        "from numpy import argmin, argmax, std\n",
        "import keras\n",
        "from keras.models import Sequential\n",
        "from keras.layers import LSTM, GRU , SimpleRNN,  BatchNormalization\n",
        "from keras.layers import Dense, Flatten"
      ],
      "metadata": {
        "id": "JhdmK-IOlgKS"
      },
      "execution_count": null,
      "outputs": []
    },
    {
      "cell_type": "code",
      "source": [
        "train_size = 14400\n",
        "predict_size = 3600"
      ],
      "metadata": {
        "id": "tzBYLDBCu5b4"
      },
      "execution_count": null,
      "outputs": []
    },
    {
      "cell_type": "code",
      "source": [
        "# split a univariate sequence into samples\n",
        "def split_sequence(sequence, n_steps):\n",
        "\tX, y = list(), list()\n",
        "\tfor i in range(len(sequence)):\n",
        "\t\t# find the end of this pattern\n",
        "\t\tend_ix = i + n_steps\n",
        "\t\t# check if we are beyond the sequence\n",
        "\t\tif end_ix > len(sequence)-1:\n",
        "\t\t\tbreak\n",
        "\t\t# gather input and output parts of the pattern\n",
        "\t\tseq_x, seq_y = sequence[i:end_ix], sequence[end_ix]\n",
        "\t\tX.append(seq_x)\n",
        "\t\ty.append(seq_y)\n",
        "\treturn array(X), array(y)"
      ],
      "metadata": {
        "id": "sN_cfWz8ljNt"
      },
      "execution_count": null,
      "outputs": []
    },
    {
      "cell_type": "code",
      "source": [
        "df = pd.read_csv('germany_2020_01.csv', on_bad_lines='skip')\n",
        "df.dropna(inplace=True)\n",
        "all_data = df['Frequency'].values.astype(int)\n",
        "from sklearn.preprocessing import MinMaxScaler\n",
        "\n",
        "scaler = MinMaxScaler(feature_range=(-1, 1))\n",
        "# train_data_normalized = scaler.fit_transform(all_data .reshape(-1, 1))\n",
        "# train_data_normalized = train_data_normalized.reshape(-1,1)\n",
        "train_data_normalized = all_data\n",
        "raw_seq = train_data_normalized[:train_size]\n",
        "n_steps = predict_size\n",
        "batch_size = 72"
      ],
      "metadata": {
        "id": "_tvF-Goclqmk"
      },
      "execution_count": null,
      "outputs": []
    },
    {
      "cell_type": "code",
      "source": [
        "X, y = split_sequence(raw_seq, n_steps)\n",
        "# reshape from [samples, timesteps] into [samples, timesteps, features]\n",
        "n_features = 1\n",
        "X = X.reshape((X.shape[0], X.shape[1], n_features))\n",
        "# define model\n",
        "model = Sequential()\n",
        "model.add(SimpleRNN(50, input_shape=( n_steps, n_features), dropout=0.1))\n",
        "model.add(Flatten())\n",
        "model.add(Dense(1, activation='linear'))\n",
        "model.compile(optimizer='adam', loss='mse')\n",
        "# fit model\n",
        "model.fit(X, y, batch_size=batch_size, epochs=25, verbose=2)"
      ],
      "metadata": {
        "id": "E-6NlSaWy3qS",
        "colab": {
          "base_uri": "https://localhost:8080/"
        },
        "outputId": "a9a68c45-6aa1-47f4-f9fc-ae9b9dd700ed"
      },
      "execution_count": null,
      "outputs": [
        {
          "output_type": "stream",
          "name": "stdout",
          "text": [
            "Epoch 1/25\n",
            "150/150 - 120s - loss: 188.3994 - 120s/epoch - 799ms/step\n",
            "Epoch 2/25\n",
            "150/150 - 107s - loss: 73.3603 - 107s/epoch - 715ms/step\n",
            "Epoch 3/25\n",
            "150/150 - 109s - loss: 42.1829 - 109s/epoch - 725ms/step\n",
            "Epoch 4/25\n",
            "150/150 - 106s - loss: 28.3684 - 106s/epoch - 705ms/step\n",
            "Epoch 5/25\n",
            "150/150 - 107s - loss: 19.2952 - 107s/epoch - 712ms/step\n",
            "Epoch 6/25\n",
            "150/150 - 108s - loss: 14.4615 - 108s/epoch - 720ms/step\n",
            "Epoch 7/25\n",
            "150/150 - 105s - loss: 14.4528 - 105s/epoch - 703ms/step\n",
            "Epoch 8/25\n",
            "150/150 - 108s - loss: 9.9294 - 108s/epoch - 720ms/step\n",
            "Epoch 9/25\n",
            "150/150 - 107s - loss: 8.2158 - 107s/epoch - 711ms/step\n",
            "Epoch 10/25\n",
            "150/150 - 106s - loss: 7.0203 - 106s/epoch - 706ms/step\n",
            "Epoch 11/25\n",
            "150/150 - 107s - loss: 6.1004 - 107s/epoch - 713ms/step\n",
            "Epoch 12/25\n",
            "150/150 - 106s - loss: 6.0087 - 106s/epoch - 705ms/step\n",
            "Epoch 13/25\n",
            "150/150 - 106s - loss: 5.6627 - 106s/epoch - 710ms/step\n",
            "Epoch 14/25\n",
            "150/150 - 107s - loss: 8.6113 - 107s/epoch - 711ms/step\n",
            "Epoch 15/25\n",
            "150/150 - 105s - loss: 22.3095 - 105s/epoch - 702ms/step\n",
            "Epoch 16/25\n",
            "150/150 - 105s - loss: 55.3046 - 105s/epoch - 703ms/step\n",
            "Epoch 17/25\n",
            "150/150 - 106s - loss: 43.8808 - 106s/epoch - 704ms/step\n",
            "Epoch 18/25\n",
            "150/150 - 106s - loss: 31.0262 - 106s/epoch - 707ms/step\n",
            "Epoch 19/25\n",
            "150/150 - 105s - loss: 23.4714 - 105s/epoch - 703ms/step\n",
            "Epoch 20/25\n",
            "150/150 - 104s - loss: 19.4986 - 104s/epoch - 697ms/step\n",
            "Epoch 21/25\n",
            "150/150 - 105s - loss: 15.5070 - 105s/epoch - 703ms/step\n",
            "Epoch 22/25\n",
            "150/150 - 105s - loss: 13.9776 - 105s/epoch - 702ms/step\n",
            "Epoch 23/25\n",
            "150/150 - 107s - loss: 12.8954 - 107s/epoch - 710ms/step\n",
            "Epoch 24/25\n",
            "150/150 - 105s - loss: 12.1945 - 105s/epoch - 697ms/step\n",
            "Epoch 25/25\n",
            "150/150 - 105s - loss: 11.0171 - 105s/epoch - 702ms/step\n"
          ]
        },
        {
          "output_type": "execute_result",
          "data": {
            "text/plain": [
              "<keras.callbacks.History at 0x7fdff2f9da90>"
            ]
          },
          "metadata": {},
          "execution_count": 14
        }
      ]
    },
    {
      "cell_type": "code",
      "source": [
        "from keras.metrics.metrics import mean_squared_error\n",
        "rnn_scores = []\n",
        "rnn_losses = []\n",
        "for i in range(predict_size):\n",
        "  x_input = train_data_normalized[train_size + i:train_size + predict_size + i]\n",
        "  x_input = x_input.reshape((1, n_steps, n_features))\n",
        "  yhat = model.predict(x_input, verbose=0)\n",
        "  if yhat > 15:\n",
        "    train_data_normalized[train_size + predict_size + i + 2] += -1 \n",
        "  elif yhat < -15:\n",
        "    train_data_normalized[train_size + predict_size + i + 2] += 1\n",
        "  ytruth = train_data_normalized[len(x_input) + i]\n",
        "  single_loss = mean_squared_error(yhat, ytruth)\n",
        "  rnn_losses.append(single_loss.numpy()[0])\n",
        "  rnn_scores.append(yhat.item())"
      ],
      "metadata": {
        "id": "4Avc8y2Mzhqh"
      },
      "execution_count": null,
      "outputs": []
    },
    {
      "cell_type": "code",
      "execution_count": null,
      "metadata": {
        "id": "JjJe9fYQlcOo",
        "colab": {
          "base_uri": "https://localhost:8080/"
        },
        "outputId": "ccd36a07-64ca-4578-825b-fb536d35096d"
      },
      "outputs": [
        {
          "output_type": "stream",
          "name": "stdout",
          "text": [
            "Epoch 1/25\n",
            "338/338 - 32s - loss: 157.3406 - 32s/epoch - 95ms/step\n",
            "Epoch 2/25\n",
            "338/338 - 31s - loss: 30.6290 - 31s/epoch - 90ms/step\n",
            "Epoch 3/25\n",
            "338/338 - 32s - loss: 11.4844 - 32s/epoch - 94ms/step\n",
            "Epoch 4/25\n",
            "338/338 - 31s - loss: 6.6002 - 31s/epoch - 92ms/step\n",
            "Epoch 5/25\n",
            "338/338 - 31s - loss: 4.5248 - 31s/epoch - 91ms/step\n",
            "Epoch 6/25\n",
            "338/338 - 31s - loss: 3.4346 - 31s/epoch - 91ms/step\n",
            "Epoch 7/25\n",
            "338/338 - 31s - loss: 2.7098 - 31s/epoch - 91ms/step\n",
            "Epoch 8/25\n",
            "338/338 - 31s - loss: 2.2483 - 31s/epoch - 91ms/step\n",
            "Epoch 9/25\n",
            "338/338 - 31s - loss: 1.8279 - 31s/epoch - 91ms/step\n",
            "Epoch 10/25\n",
            "338/338 - 32s - loss: 1.5692 - 32s/epoch - 95ms/step\n",
            "Epoch 11/25\n",
            "338/338 - 31s - loss: 1.3444 - 31s/epoch - 91ms/step\n",
            "Epoch 12/25\n",
            "338/338 - 31s - loss: 1.1965 - 31s/epoch - 91ms/step\n",
            "Epoch 13/25\n",
            "338/338 - 31s - loss: 1.1343 - 31s/epoch - 91ms/step\n",
            "Epoch 14/25\n",
            "338/338 - 31s - loss: 1.0282 - 31s/epoch - 91ms/step\n",
            "Epoch 15/25\n",
            "338/338 - 31s - loss: 1.0074 - 31s/epoch - 92ms/step\n",
            "Epoch 16/25\n",
            "338/338 - 31s - loss: 0.9258 - 31s/epoch - 91ms/step\n",
            "Epoch 17/25\n",
            "338/338 - 32s - loss: 0.9054 - 32s/epoch - 94ms/step\n",
            "Epoch 18/25\n",
            "338/338 - 31s - loss: 0.8772 - 31s/epoch - 91ms/step\n",
            "Epoch 19/25\n",
            "338/338 - 31s - loss: 0.8441 - 31s/epoch - 91ms/step\n",
            "Epoch 20/25\n",
            "338/338 - 31s - loss: 0.8388 - 31s/epoch - 92ms/step\n",
            "Epoch 21/25\n",
            "338/338 - 31s - loss: 0.8206 - 31s/epoch - 90ms/step\n",
            "Epoch 22/25\n",
            "338/338 - 31s - loss: 0.8120 - 31s/epoch - 91ms/step\n",
            "Epoch 23/25\n",
            "338/338 - 32s - loss: 0.7753 - 32s/epoch - 93ms/step\n",
            "Epoch 24/25\n",
            "338/338 - 31s - loss: 0.8016 - 31s/epoch - 91ms/step\n",
            "Epoch 25/25\n",
            "338/338 - 31s - loss: 0.8024 - 31s/epoch - 92ms/step\n"
          ]
        },
        {
          "output_type": "execute_result",
          "data": {
            "text/plain": [
              "<keras.callbacks.History at 0x7fdee28d5040>"
            ]
          },
          "metadata": {},
          "execution_count": 32
        }
      ],
      "source": [
        "X, y = split_sequence(raw_seq, n_steps)\n",
        "# reshape from [samples, timesteps] into [samples, timesteps, features]\n",
        "n_features = 1\n",
        "X = X.reshape((X.shape[0], X.shape[1], n_features))\n",
        "# define model\n",
        "lstm_model = Sequential()\n",
        "lstm_model.add(LSTM(50, input_shape=(n_steps, n_features), dropout=0.1))\n",
        "lstm_model.add(Flatten())\n",
        "lstm_model.add(Dense(1, activation='linear'))\n",
        "lstm_model.compile(optimizer='adam', loss='mse')\n",
        "# fit model\n",
        "lstm_model.fit(X, y, epochs=25, verbose=2)\n"
      ]
    },
    {
      "cell_type": "code",
      "source": [
        "# demonstrate prediction\n",
        "scores = []\n",
        "lstm_losses = []\n",
        "for i in range(predict_size):\n",
        "  x_input = train_data_normalized[train_size + i:train_size + predict_size + i]\n",
        "  x_input = x_input.reshape((1, n_steps, n_features))\n",
        "  yhat = lstm_model.predict(x_input, verbose=0)\n",
        "  if yhat > 15:\n",
        "    train_data_normalized[train_size + predict_size + i + 2] += -1 \n",
        "  elif yhat < -15:\n",
        "    train_data_normalized[train_size + predict_size + i + 2] += 1\n",
        "  ytruth = train_data_normalized[len(x_input) + i]\n",
        "  single_loss = mean_squared_error(yhat, ytruth)\n",
        "  lstm_losses.append(single_loss.numpy()[0])\n",
        "  scores.append(yhat.item())"
      ],
      "metadata": {
        "id": "lCB2S-3WmGHp"
      },
      "execution_count": null,
      "outputs": []
    },
    {
      "cell_type": "code",
      "source": [
        "X, y = split_sequence(raw_seq, n_steps)\n",
        "# reshape from [samples, timesteps] into [samples, timesteps, features]\n",
        "n_features = 1\n",
        "X = X.reshape((X.shape[0], X.shape[1], n_features))\n",
        "\n",
        "gru_model = Sequential()\n",
        "gru_model.add(GRU(64, input_shape=(n_steps, n_features)))\n",
        "gru_model.add(BatchNormalization())\n",
        "gru_model.add(Dense(10))\n",
        "gru_model.compile(\n",
        "    loss='mse',\n",
        "    optimizer=\"adam\",\n",
        ")\t\n",
        "gru_model.fit(X, y, epochs=25, verbose=2)"
      ],
      "metadata": {
        "id": "EHWDSCWO9D6M",
        "colab": {
          "base_uri": "https://localhost:8080/"
        },
        "outputId": "f0f7dcdb-4ada-4dda-f16c-203389793ef3"
      },
      "execution_count": null,
      "outputs": [
        {
          "output_type": "stream",
          "name": "stdout",
          "text": [
            "Epoch 1/25\n",
            "338/338 - 31s - loss: 112.0418 - 31s/epoch - 92ms/step\n",
            "Epoch 2/25\n",
            "338/338 - 31s - loss: 15.0436 - 31s/epoch - 92ms/step\n",
            "Epoch 3/25\n",
            "338/338 - 30s - loss: 16.4844 - 30s/epoch - 88ms/step\n",
            "Epoch 4/25\n",
            "338/338 - 30s - loss: 14.2639 - 30s/epoch - 87ms/step\n",
            "Epoch 5/25\n",
            "338/338 - 29s - loss: 15.2402 - 29s/epoch - 87ms/step\n",
            "Epoch 6/25\n",
            "338/338 - 30s - loss: 14.1540 - 30s/epoch - 88ms/step\n",
            "Epoch 7/25\n",
            "338/338 - 29s - loss: 12.8468 - 29s/epoch - 87ms/step\n",
            "Epoch 8/25\n",
            "338/338 - 29s - loss: 14.8841 - 29s/epoch - 87ms/step\n",
            "Epoch 9/25\n",
            "338/338 - 29s - loss: 11.1344 - 29s/epoch - 87ms/step\n",
            "Epoch 10/25\n",
            "338/338 - 31s - loss: 12.4529 - 31s/epoch - 90ms/step\n",
            "Epoch 11/25\n",
            "338/338 - 30s - loss: 12.2897 - 30s/epoch - 89ms/step\n",
            "Epoch 12/25\n",
            "338/338 - 30s - loss: 10.6517 - 30s/epoch - 88ms/step\n",
            "Epoch 13/25\n",
            "338/338 - 30s - loss: 10.4976 - 30s/epoch - 88ms/step\n",
            "Epoch 14/25\n",
            "338/338 - 29s - loss: 10.4748 - 29s/epoch - 87ms/step\n",
            "Epoch 15/25\n",
            "338/338 - 29s - loss: 10.8250 - 29s/epoch - 87ms/step\n",
            "Epoch 16/25\n",
            "338/338 - 29s - loss: 11.7537 - 29s/epoch - 87ms/step\n",
            "Epoch 17/25\n",
            "338/338 - 31s - loss: 10.6850 - 31s/epoch - 92ms/step\n",
            "Epoch 18/25\n",
            "338/338 - 29s - loss: 10.5049 - 29s/epoch - 87ms/step\n",
            "Epoch 19/25\n",
            "338/338 - 29s - loss: 10.9103 - 29s/epoch - 87ms/step\n",
            "Epoch 20/25\n",
            "338/338 - 29s - loss: 10.6810 - 29s/epoch - 87ms/step\n",
            "Epoch 21/25\n",
            "338/338 - 30s - loss: 10.5567 - 30s/epoch - 89ms/step\n",
            "Epoch 22/25\n",
            "338/338 - 29s - loss: 10.9324 - 29s/epoch - 87ms/step\n",
            "Epoch 23/25\n",
            "338/338 - 30s - loss: 11.0157 - 30s/epoch - 88ms/step\n",
            "Epoch 24/25\n",
            "338/338 - 29s - loss: 12.5076 - 29s/epoch - 87ms/step\n",
            "Epoch 25/25\n",
            "338/338 - 30s - loss: 11.4226 - 30s/epoch - 90ms/step\n"
          ]
        },
        {
          "output_type": "execute_result",
          "data": {
            "text/plain": [
              "<keras.callbacks.History at 0x7fdf81f62280>"
            ]
          },
          "metadata": {},
          "execution_count": 34
        }
      ]
    },
    {
      "cell_type": "code",
      "source": [
        "gru_scores = []\n",
        "gru_losses = []\n",
        "for i in range(predict_size):\n",
        "  x_input = train_data_normalized[train_size + i:train_size + predict_size + i]\n",
        "  x_input = x_input.reshape((1, n_steps, n_features))\n",
        "  yhat = gru_model.predict(x_input, verbose=0)\n",
        "  if yhat[0][0] > 15:\n",
        "    train_data_normalized[train_size + predict_size + i + 2] += -1 \n",
        "  elif yhat[0][0] < -15:\n",
        "    train_data_normalized[train_size + predict_size + i + 2] += 1\n",
        "  ytruth = train_data_normalized[len(x_input) + i]\n",
        "  single_loss = mean_squared_error(yhat[0], ytruth)\n",
        "  gru_losses.append(single_loss.numpy())\n",
        "  gru_scores.append(yhat[0][0])"
      ],
      "metadata": {
        "id": "9iXb1q4c-FeZ"
      },
      "execution_count": null,
      "outputs": []
    },
    {
      "cell_type": "code",
      "source": [
        "import matplotlib.pyplot as plt\n",
        "\n",
        "# lstm = scaler.inverse_transform(array(scores).reshape(-1,1))\n",
        "# gru = scaler.inverse_transform(array(gru_scores).reshape(-1,1))\n",
        "# rnn = scaler.inverse_transform(array(rnn_scores).reshape(-1,1))\n",
        "\n",
        "lstm = scores\n",
        "gru = gru_scores\n",
        "rnn = rnn_scores\n",
        "  \n",
        "# create data\n",
        "input = [i for i in range (predict_size)]\n",
        "  \n",
        "# plot lines\n",
        "plt.plot(input, lstm, label = \"LSTM\")\n",
        "plt.plot(input, gru, label = \"GRU\")\n",
        "plt.plot(input, rnn, label = \"RNN\")\n",
        "plt.plot(input, all_data[train_size: train_size + predict_size], label = \"Actual Value\")\n",
        "plt.title('Germany_2020_01 2:00:00 -2:00:30')\n",
        "plt.legend()\n",
        "plt.show()"
      ],
      "metadata": {
        "id": "fJRm6NFuIZmP",
        "colab": {
          "base_uri": "https://localhost:8080/",
          "height": 281
        },
        "outputId": "021cd2ea-5206-423f-ad11-6ab21ce1fb43"
      },
      "execution_count": null,
      "outputs": [
        {
          "output_type": "display_data",
          "data": {
            "text/plain": [
              "<Figure size 432x288 with 1 Axes>"
            ],
            "image/png": "[encoded data removed]"
          },
          "metadata": {
            "needs_background": "light"
          }
        }
      ]
    },
    {
      "cell_type": "code",
      "source": [
        "from tabulate import tabulate\n",
        "headers = ['Observed', 'LSTM', 'GRU', 'RNN']\n",
        "table = zip(all_data[train_size: train_size + predict_size], lstm, gru, rnn_scores)\n",
        "print(tabulate(table, headers=headers, floatfmt=\".0f\", tablefmt=\"grid\"))"
      ],
      "metadata": {
        "id": "pxg3IpvwPheB"
      },
      "execution_count": null,
      "outputs": []
    },
    {
      "cell_type": "code",
      "source": [
        "from tabulate import tabulate\n",
        "headers = ['Model', 'Loss', 'Absolute Loss', 'Max Loss', 'Min Loss']\n",
        "model = ['gru', 'lstm', 'rnn']\n",
        "loss = ['0.0014', '8.8547e-04', '0.0013']\n",
        "re = ['214s/epoch', '213s/epoch', '912/epoch']\n",
        "runtime = ['5293.636s', '5281.949s', '2290.520s']\n",
        "abs_loss = [mean(gru_losses), mean(lstm_losses), mean(rnn_losses)]\n",
        "max_loss = [gru_losses[argmax(gru_losses)], lstm_losses[argmax(lstm_losses)], rnn_losses[argmax(rnn_losses)]]\n",
        "min_loss = [gru_losses[argmin(gru_losses)], lstm_losses[argmin(lstm_losses)], rnn_losses[argmin(rnn_losses)]]\n",
        "table = zip(model, loss, abs_loss, max_loss, min_loss)\n",
        "print(tabulate(table, headers=headers, floatfmt=\".4f\", tablefmt=\"grid\"))"
      ],
      "metadata": {
        "id": "npV4DuawE3Oa"
      },
      "execution_count": null,
      "outputs": []
    },
    {
      "cell_type": "code",
      "source": [
        "print(std(gru_losses))"
      ],
      "metadata": {
        "id": "dk2SNsf801FS"
      },
      "execution_count": null,
      "outputs": []
    }
  ]
}